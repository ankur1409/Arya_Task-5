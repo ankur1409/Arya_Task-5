{
 "cells": [
  {
   "cell_type": "code",
   "execution_count": null,
   "metadata": {},
   "outputs": [],
   "source": [
    "\n",
    "import numpy as np\n",
    "\n",
    "\n",
    "arr1 = np.array([1, 2, 3, 4, 5])\n",
    "arr2 = np.array([6, 7, 8, 9, 10])\n",
    "\n",
    "\n",
    "print(\"Addition:\", arr1 + arr2)\n",
    "print(\"Subtraction:\", arr1 - arr2)\n",
    "print(\"Multiplication:\", arr1 * arr2)\n",
    "print(\"Division:\", arr1 / arr2)"
   ]
  },
  {
   "cell_type": "code",
   "execution_count": null,
   "metadata": {},
   "outputs": [],
   "source": [
    "import numpy as np\n",
    "\n",
    "arr = np.array([[1, 2, 3], [4, 5, 6], [7, 8, 9]])\n",
    "\n",
    "\n",
    "print(\"Element at (1, 2):\", arr[1, 2])\n",
    "\n",
    "\n",
    "print(\"Row 1:\", arr[1, :])\n",
    "print(\"Column 2:\", arr[:, 2])"
   ]
  },
  {
   "cell_type": "code",
   "execution_count": null,
   "metadata": {},
   "outputs": [],
   "source": [
    "import pandas as pd\n",
    "\n",
    "\n",
    "s = pd.Series([1, 2, 3, 4, 5], index=['a', 'b', 'c', 'd', 'e'])\n",
    "\n",
    "print(s)\n",
    "\n",
    "\n",
    "print(\"Element at 'c':\", s['c'])"
   ]
  },
  {
   "cell_type": "code",
   "execution_count": null,
   "metadata": {},
   "outputs": [],
   "source": [
    "import pandas as pd\n",
    "\n",
    "data = {'Name': ['John', 'Anna', 'Peter', 'Linda'],\n",
    "        'Age': [28, 24, 35, 32],\n",
    "        'Country': ['USA', 'UK', 'Australia', 'Germany']}\n",
    "df = pd.DataFrame(data)\n",
    "\n",
    "print(\"Row 1:\", df.loc[0])\n",
    "print(\"Column 'Age':\", df['Age'])"
   ]
  },
  {
   "cell_type": "code",
   "execution_count": null,
   "metadata": {},
   "outputs": [],
   "source": [
    "import matplotlib.pyplot as plt\n",
    "\n",
    "\n",
    "x = [1, 2, 3, 4, 5]\n",
    "y = [2, 4, 6, 8, 10]\n",
    "\n",
    "\n",
    "plt.plot(x, y)\n",
    "plt.xlabel('X')\n",
    "plt.ylabel('Y')\n",
    "plt.title('Line Plot')\n",
    "plt.show()"
   ]
  },
  {
   "cell_type": "code",
   "execution_count": null,
   "metadata": {},
   "outputs": [],
   "source": [
    "import matplotlib.pyplot as plt\n",
    "\n",
    "x = [1, 2, 3, 4, 5]\n",
    "y = [2, 4, 6, 8, 10]\n",
    "\n",
    "plt.scatter(x, y)\n",
    "plt.xlabel('X')\n",
    "plt.ylabel('Y')\n",
    "plt.title('Scatter Plot')\n",
    "plt.show()"
   ]
  },
  {
   "cell_type": "code",
   "execution_count": null,
   "metadata": {},
   "outputs": [],
   "source": [
    "import matplotlib.pyplot as plt\n",
    "\n",
    "x = [1, 2, 3, 4, 5]\n",
    "y = [2, 4, 6, 8, 10]\n",
    "\n",
    "plt.bar(x, y)\n",
    "plt.xlabel('X')\n",
    "plt.ylabel('Y')\n",
    "plt.title('Bar Chart')\n",
    "plt.show()"
   ]
  },
  {
   "cell_type": "code",
   "execution_count": null,
   "metadata": {},
   "outputs": [],
   "source": [
    "import pandas as pd\n",
    "\n",
    "\n",
    "data = {'Name': ['John', 'Anna', 'Peter', 'Linda', 'John', 'Anna'],\n",
    "        'Age': [28, 24, 35, 32, 28, 24],\n",
    "        'Country': ['USA', 'UK', 'Australia', 'Germany', 'USA', 'UK']}\n",
    "df = pd.DataFrame(data)\n",
    "\n",
    "grouped = df.groupby('Country')['Age'].mean()\n",
    "print(grouped)"
   ]
  },
  {
   "cell_type": "code",
   "execution_count": null,
   "metadata": {},
   "outputs": [],
   "source": [
    "import matplotlib.pyplot as plt\n",
    "\n",
    "labels = ['A', 'B', 'C', 'D']\n",
    "sizes = [15, 30, 45, 10]\n",
    "plt.pie(sizes, labels=labels)\n",
    "plt.show()"
   ]
  },
  {
   "cell_type": "code",
   "execution_count": null,
   "metadata": {},
   "outputs": [],
   "source": [
    "import pandas as pd\n",
    "\n",
    "df = pd.DataFrame({'Name': ['John', 'Anna', 'Peter', 'Linda'],\n",
    "                   'Age': [28, 24, 35, 32]})\n",
    "\n",
    "df['Country'] = ['USA', 'UK', 'Australia', 'Germany']\n",
    "print(df)\n",
    "\n",
    "df.drop('Age', axis=1, inplace=True)\n",
    "print(df)"
   ]
  },
  {
   "cell_type": "code",
   "execution_count": null,
   "metadata": {},
   "outputs": [],
   "source": [
    "import seaborn as sns\n",
    "import matplotlib.pyplot as plt\n",
    "import numpy as np\n",
    "import pandas as pd\n",
    "\n",
    "np.random.seed(0)\n",
    "n = 100\n",
    "x = np.random.normal(0, 1, n)\n",
    "y = 2 * x + np.random.normal(0, 1, n)\n",
    "z = np.random.choice(['A', 'B', 'C'], n)\n",
    "\n",
    "df = pd.DataFrame({'x': x, 'y': y, 'z': z})\n",
    "\n",
    "plt.figure(figsize=(10,6))\n",
    "sns.regplot(x=\"x\", y=\"y\", data=df)\n",
    "plt.title(\"Scatterplot with Regression Line\")\n",
    "plt.show()\n",
    "\n",
    "plt.figure(figsize=(10,6))\n",
    "sns.boxplot(x=\"z\", y=\"y\", data=df)\n",
    "plt.title(\"Boxplot\")\n",
    "plt.show()\n",
    "\n",
    "plt.figure(figsize=(10,6))\n",
    "sns.barplot(x=\"z\", y=\"x\", data=df)\n",
    "plt.title(\"Barplot\")\n",
    "plt.show()\n",
    "\n",
    "plt.figure(figsize=(10,6))\n",
    "sns.countplot(x=\"z\", data=df)\n",
    "plt.title(\"Countplot\")\n",
    "plt.show()\n",
    "\n"
   ]
  }
 ],
 "metadata": {
  "language_info": {
   "name": "python"
  }
 },
 "nbformat": 4,
 "nbformat_minor": 2
}
